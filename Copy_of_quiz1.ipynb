{
  "nbformat": 4,
  "nbformat_minor": 0,
  "metadata": {
    "colab": {
      "provenance": [],
      "include_colab_link": true
    },
    "kernelspec": {
      "name": "python3",
      "display_name": "Python 3"
    },
    "language_info": {
      "name": "python"
    }
  },
  "cells": [
    {
      "cell_type": "markdown",
      "metadata": {
        "id": "view-in-github",
        "colab_type": "text"
      },
      "source": [
        "<a href=\"https://colab.research.google.com/github/Omarismail10/hello-world/blob/main/Copy_of_quiz1.ipynb\" target=\"_parent\"><img src=\"https://colab.research.google.com/assets/colab-badge.svg\" alt=\"Open In Colab\"/></a>"
      ]
    },
    {
      "cell_type": "markdown",
      "source": [
        "# First Names\n",
        "\n",
        "The first names of the students enrolled in DSCI1412 2 are stored in the `names` list below. (unrelated to the question, but the first names are simply ordered by the last names - not shown)\n",
        "\n",
        "**Q1.** Write a Python program to count the occurrences of the first names in the class.\n",
        "\n",
        "**Q2.** (**Bonus**) Write the code to find out which first name is the most common in the class?"
      ],
      "metadata": {
        "id": "6GEwjoWcOHc9"
      }
    },
    {
      "cell_type": "code",
      "execution_count": 1,
      "metadata": {
        "colab": {
          "base_uri": "https://localhost:8080/"
        },
        "id": "mzU4IpqsN63V",
        "outputId": "51fff164-be5d-4246-dce5-f82a33d23fa3"
      },
      "outputs": [
        {
          "output_type": "execute_result",
          "data": {
            "text/plain": [
              "['Malak',\n",
              " 'Omar',\n",
              " 'Jana',\n",
              " 'Aly',\n",
              " 'Rawan',\n",
              " 'Yousef',\n",
              " 'Abdelrahman',\n",
              " 'Sara',\n",
              " 'Nour',\n",
              " 'Kenzie',\n",
              " 'Charbel',\n",
              " 'Malak',\n",
              " 'Shaymaa',\n",
              " 'Lojane',\n",
              " 'Khaled',\n",
              " 'Amr',\n",
              " 'Lina',\n",
              " 'Kenzy',\n",
              " 'Youssef',\n",
              " 'Nadine',\n",
              " 'Lorina',\n",
              " 'Nour',\n",
              " 'Farah',\n",
              " 'Adham',\n",
              " 'Nour',\n",
              " 'Farah',\n",
              " 'Abdulrahman',\n",
              " 'Aly',\n",
              " 'Jessie',\n",
              " 'Zeina']"
            ]
          },
          "metadata": {},
          "execution_count": 1
        }
      ],
      "source": [
        "names = [\"Malak\", \"Omar\", \"Jana\", \"Aly\", \"Rawan\", \"Yousef\", \"Abdelrahman\", \"Sara\", \"Nour\", \"Kenzie\", \"Charbel\", \"Malak\", \"Shaymaa\", \"Lojane\", \"Khaled\", \"Amr\", \"Lina\", \"Kenzy\", \"Youssef\", \"Nadine\", \"Lorina\", \"Nour\", \"Farah\", \"Adham\", \"Nour\", \"Farah\", \"Abdulrahman\", \"Aly\", \"Jessie\", \"Zeina\"]\n",
        "names"
      ]
    },
    {
      "cell_type": "code",
      "source": [
        "len(names)"
      ],
      "metadata": {
        "colab": {
          "base_uri": "https://localhost:8080/"
        },
        "id": "JBv4ZacVOADM",
        "outputId": "8e037952-323e-4785-ab9d-96e8774becc4"
      },
      "execution_count": null,
      "outputs": [
        {
          "output_type": "execute_result",
          "data": {
            "text/plain": [
              "30"
            ]
          },
          "metadata": {},
          "execution_count": 2
        }
      ]
    },
    {
      "cell_type": "code",
      "source": [
        "names = [\"Malak\", \"Omar\", \"Jana\", \"Aly\", \"Rawan\", \"Yousef\", \"Abdelrahman\", \"Sara\", \"Nour\", \"Kenzie\", \"Charbel\", \"Malak\", \"Shaymaa\", \"Lojane\", \"Khaled\", \"Amr\", \"Lina\", \"Kenzy\", \"Youssef\", \"Nadine\", \"Lorina\", \"Nour\", \"Farah\", \"Adham\", \"Nour\", \"Farah\", \"Abdulrahman\", \"Aly\", \"Jessie\", \"Zeina\"]\n",
        "\n",
        "counts = {}\n",
        "\n",
        "for name in names:\n",
        "   \n",
        "    first_name = name.split()[0]\n",
        "    \n",
        "    if first_name in counts:\n",
        "        counts[first_name] += 1\n",
        "    else:  \n",
        "        counts[first_name] = 1\n",
        "for name, count in counts.items():\n",
        "    print(f'{name}: {count}')"
      ],
      "metadata": {
        "id": "ItP7T4VlOEv6",
        "colab": {
          "base_uri": "https://localhost:8080/"
        },
        "outputId": "10e8586b-ee9c-409c-e5e2-0d0076c7405e"
      },
      "execution_count": 2,
      "outputs": [
        {
          "output_type": "stream",
          "name": "stdout",
          "text": [
            "Malak: 2\n",
            "Omar: 1\n",
            "Jana: 1\n",
            "Aly: 2\n",
            "Rawan: 1\n",
            "Yousef: 1\n",
            "Abdelrahman: 1\n",
            "Sara: 1\n",
            "Nour: 3\n",
            "Kenzie: 1\n",
            "Charbel: 1\n",
            "Shaymaa: 1\n",
            "Lojane: 1\n",
            "Khaled: 1\n",
            "Amr: 1\n",
            "Lina: 1\n",
            "Kenzy: 1\n",
            "Youssef: 1\n",
            "Nadine: 1\n",
            "Lorina: 1\n",
            "Farah: 2\n",
            "Adham: 1\n",
            "Abdulrahman: 1\n",
            "Jessie: 1\n",
            "Zeina: 1\n"
          ]
        }
      ]
    },
    {
      "cell_type": "code",
      "source": [
        "\n",
        "\n",
        "first_name_count = {}\n",
        "for name in names:\n",
        "    \n",
        "    first_name = name.split()[0]\n",
        "\n",
        "    if first_name in first_name_count:\n",
        "        first_name_count[first_name] += 1\n",
        "    else:\n",
        "        first_name_count[first_name] = 1\n",
        "\n",
        "most_common_first_name = max(first_name_count, key=first_name_count.get)\n",
        "\n",
        "print(\"The most common first name is:\", most_common_first_name)\n"
      ],
      "metadata": {
        "colab": {
          "base_uri": "https://localhost:8080/"
        },
        "id": "RsPnxLZB2nvL",
        "outputId": "b12a23e8-4b5e-447f-b3ee-f3e72033b438"
      },
      "execution_count": 3,
      "outputs": [
        {
          "output_type": "stream",
          "name": "stdout",
          "text": [
            "The most common first name is: Nour\n"
          ]
        }
      ]
    }
  ]
}